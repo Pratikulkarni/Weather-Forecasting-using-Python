{
  "nbformat": 4,
  "nbformat_minor": 0,
  "metadata": {
    "colab": {
      "private_outputs": true,
      "provenance": [],
      "authorship_tag": "ABX9TyNLJ/cbuBQIEntwzghy163E",
      "include_colab_link": true
    },
    "kernelspec": {
      "name": "python3",
      "display_name": "Python 3"
    },
    "language_info": {
      "name": "python"
    }
  },
  "cells": [
    {
      "cell_type": "markdown",
      "metadata": {
        "id": "view-in-github",
        "colab_type": "text"
      },
      "source": [
        "<a href=\"https://colab.research.google.com/github/Pratikulkarni/Weather-Forecasting-using-Python/blob/main/Weather_forecasting.ipynb\" target=\"_parent\"><img src=\"https://colab.research.google.com/assets/colab-badge.svg\" alt=\"Open In Colab\"/></a>"
      ]
    },
    {
      "cell_type": "code",
      "source": [
        "import pandas as pd\n",
        "import numpy as np\n",
        "import matplotlib.pyplot as plt\n",
        "import seaborn as sns\n",
        "import plotly.express as px\n"
      ],
      "metadata": {
        "id": "g-Pz3knFfGje"
      },
      "execution_count": null,
      "outputs": []
    },
    {
      "cell_type": "code",
      "source": [
        "df = pd.read_csv('/content/DailyDelhiClimateTest.csv')"
      ],
      "metadata": {
        "id": "pm80bv1JfeLX"
      },
      "execution_count": null,
      "outputs": []
    },
    {
      "cell_type": "code",
      "source": [
        "df.head()"
      ],
      "metadata": {
        "id": "hr2JL9lGf0wE"
      },
      "execution_count": null,
      "outputs": []
    },
    {
      "cell_type": "code",
      "source": [
        "df.describe()"
      ],
      "metadata": {
        "id": "ApuTrHJOf3Cq"
      },
      "execution_count": null,
      "outputs": []
    },
    {
      "cell_type": "code",
      "source": [
        "df.info()"
      ],
      "metadata": {
        "id": "oAASBzvCf5ql"
      },
      "execution_count": null,
      "outputs": []
    },
    {
      "cell_type": "code",
      "source": [
        "figure = px.line(df, x='date', y='meantemp')\n",
        "title = ('Mean Temprature in Delhi Over the Years')\n",
        "figure.show()"
      ],
      "metadata": {
        "id": "P4U4wRWrf8iv"
      },
      "execution_count": null,
      "outputs": []
    },
    {
      "cell_type": "code",
      "source": [
        "figure = px.line(df, x='date', y='humidity')\n",
        "title = ('Humidity in Delhi Over the Years')\n",
        "figure.show()"
      ],
      "metadata": {
        "id": "Mc4QkC4CgLW3"
      },
      "execution_count": null,
      "outputs": []
    },
    {
      "cell_type": "code",
      "source": [
        "figure = px.line(df, x='date', y='wind_speed')\n",
        "title = ('Wind Speed in Delhi Over the Years')\n",
        "figure.show()"
      ],
      "metadata": {
        "id": "Nw-u_3OFhAgP"
      },
      "execution_count": null,
      "outputs": []
    },
    {
      "cell_type": "code",
      "source": [
        "figure = px.scatter(df, x=\"humidity\", y=\"meantemp\", size=\"meantemp\", trendline=\"ols\",\n",
        "                    title = \"Relationship betweem Temperature and Humidity\")\n",
        "figure.show()"
      ],
      "metadata": {
        "id": "Qbg7Gtl9hZFU"
      },
      "execution_count": null,
      "outputs": []
    },
    {
      "cell_type": "code",
      "source": [
        "# Analyzing Temperature Change\n",
        "df[\"date\"] = pd.to_datetime(df[\"date\"], format = '%Y-%m-%d')\n",
        "df['year'] = df['date'].dt.year\n",
        "df[\"month\"] = df['date'].dt.month\n",
        "print(df.head())"
      ],
      "metadata": {
        "id": "y_Ef-iHRiVlE"
      },
      "execution_count": null,
      "outputs": []
    },
    {
      "cell_type": "code",
      "source": [
        "plt.style.use('fivethirtyeight')\n",
        "plt.figure(figsize=(15, 10))\n",
        "plt.title(\"Temperature Change in Delhi Over the Years\")\n",
        "sns.lineplot(df, x='month', y='meantemp', hue='year')\n",
        "plt.show()"
      ],
      "metadata": {
        "id": "DumL2yy6kLEX"
      },
      "execution_count": null,
      "outputs": []
    },
    {
      "cell_type": "code",
      "source": [
        "# Forecsting Weather using Python\n",
        "forecast_data = df.rename(columns = {\"date\":\"ds\", \"meantemp\": \"y\"})\n",
        "print(forecast_data)"
      ],
      "metadata": {
        "id": "RD733b36lOeQ"
      },
      "execution_count": null,
      "outputs": []
    },
    {
      "cell_type": "code",
      "source": [
        "from prophet import Prophet\n",
        "from prophet.plot import plot_plotly, plot_components_plotly\n",
        "model = Prophet()\n",
        "model.fit(forecast_data)\n",
        "forecast = model.make_future_dataframe(periods=365)\n",
        "prediction = model.predict(forecast)\n",
        "plot_plotly(model, prediction)"
      ],
      "metadata": {
        "id": "BjW1dd5imRle"
      },
      "execution_count": null,
      "outputs": []
    },
    {
      "cell_type": "code",
      "source": [],
      "metadata": {
        "id": "M4EcqBu6nxo4"
      },
      "execution_count": null,
      "outputs": []
    }
  ]
}